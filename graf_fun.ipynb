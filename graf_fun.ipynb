{
 "cells": [
  {
   "cell_type": "code",
   "execution_count": 2,
   "id": "83312d82-e9ad-4e1f-b3a0-645a8c6cc5fa",
   "metadata": {},
   "outputs": [
    {
     "name": "stdout",
     "output_type": "stream",
     "text": [
      "Арксинус из библиотеки:       0.2013579207903308\n",
      "Арксинус через ряд тейлора:  0.20135792078985754\n"
     ]
    },
    {
     "data": {
      "image/png": "[encoded data removed]",
      "text/plain": [
       "<Figure size 432x288 with 1 Axes>"
      ]
     },
     "metadata": {
      "needs_background": "light"
     },
     "output_type": "display_data"
    }
   ],
   "source": [
    "import math\n",
    "import numpy as np\n",
    "import matplotlib.pyplot as plt\n",
    "\n",
    "ITERATIONS = 7\n",
    "\n",
    "def my_arcsin(x):\n",
    "\n",
    "    x_pow = x\n",
    "    multiplier = 1\n",
    "    partial_sum = x\n",
    "    summer = 0\n",
    "    for n in range(1, ITERATIONS):\n",
    "        x_pow *= x**2\n",
    "        multiplier *=(2*n - 1)/(2*n)\n",
    "        summer = multiplier / (2*n + 1)\n",
    "        partial_sum += x_pow * summer\n",
    "        summer = 0\n",
    "    return partial_sum\n",
    "\n",
    "X = [n*10**(-3) for n in range (int(1 * 10 ** (3)))]\n",
    "\n",
    "Y = []\n",
    "\n",
    "T = []\n",
    "\n",
    "for i in range(len(X)):\n",
    "     T.append(np.arcsin(X[i]))\n",
    "\n",
    "for i in range(len(X)):\n",
    "     Y.append(my_arcsin(X[i]))\n",
    "\n",
    "print(\"Арксинус из библиотеки:      \", math.asin(0.2))\n",
    "print(\"Арксинус через ряд тейлора: \", my_arcsin(0.2))\n",
    "\n",
    "a=np.arange(0.1,3,0.01)\n",
    "\n",
    "%matplotlib inline\n",
    "\n",
    "plt.plot(X,Y,color='blue',linewidth=1)\n",
    "plt.plot(X,T,color='red',linewidth=1)\n",
    "plt.show()\n"
   ]
  },
  {
   "cell_type": "code",
   "execution_count": null,
   "id": "572ca583-aa8b-466f-80b3-f5d3c7a6cfbf",
   "metadata": {},
   "outputs": [],
   "source": []
  }
 ],
 "metadata": {
  "kernelspec": {
   "display_name": "Python 3 (ipykernel)",
   "language": "python",
   "name": "python3"
  },
  "language_info": {
   "codemirror_mode": {
    "name": "ipython",
    "version": 3
   },
   "file_extension": ".py",
   "mimetype": "text/x-python",
   "name": "python",
   "nbconvert_exporter": "python",
   "pygments_lexer": "ipython3",
   "version": "3.7.6"
  }
 },
 "nbformat": 4,
 "nbformat_minor": 5
}
