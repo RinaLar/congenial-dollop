{
 "cells": [
  {
   "cell_type": "code",
   "execution_count": null,
   "id": "d8a8335d-cc4c-4d3a-bbe5-556e3764ef3e",
   "metadata": {},
   "outputs": [],
   "source": [
    "import math\n",
    "def is_prime(m):\n",
    "    a=0\n",
    "    A=1\n",
    "    if type(m) == int and m > 0:\n",
    "        m = abs(m)\n",
    "        A=math.factorial(m-1)\n",
    "        if (A+1)%m==0:\n",
    "            return bool(m-1)\n",
    "        else:\n",
    "            return bool(0)\n",
    "    else:\n",
    "         return bool(0)\n"
   ]
  }
 ],
 "metadata": {
  "kernelspec": {
   "display_name": "",
   "name": ""
  },
  "language_info": {
   "name": ""
  }
 },
 "nbformat": 4,
 "nbformat_minor": 5
}
