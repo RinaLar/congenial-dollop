{
 "cells": [
  {
   "cell_type": "code",
   "execution_count": 2,
   "id": "07ddb63d-887f-4960-8dbe-0ee3893e6c88",
   "metadata": {},
   "outputs": [
    {
     "name": "stdout",
     "output_type": "stream",
     "text": [
      "[1, 2, 3, 5, 8, 13, 21, 34, 55, 89, 144, 233, 377, 610]\n"
     ]
    }
   ],
   "source": [
    "import itertools\n",
    "\n",
    "\n",
    "class Fibonacci:\n",
    "    \"\"\"По объектам этого класса можно итерироваться и получать числа фибоначи\"\"\"\n",
    "\n",
    "    class _Fib6_iter:\n",
    "        \"\"\"Внутренний класс — итератор\"\"\"\n",
    "\n",
    "        def __init__(self):\n",
    "            self. f1 = 1\n",
    "            self.f2 = 1\n",
    "\n",
    "        def __next__(self):\n",
    "            f = self.f1\n",
    "            self.f1, self.f2 = self.f2, self.f1 + self.f2\n",
    "            f = self.f1\n",
    "            return f\n",
    "\n",
    "    def __iter__(self):\n",
    "        \"\"\"Создать и вернуть итератор\"\"\"\n",
    "        return Fibonacci._Fib6_iter()\n",
    "\n",
    "\n",
    "fib = Fibonacci()\n",
    "\n",
    "print(list(itertools.islice(fib, 14)))"
   ]
  },
  {
   "cell_type": "code",
   "execution_count": null,
   "id": "7e9b75e6-1688-4bbe-ba92-9b61e0fd5e85",
   "metadata": {},
   "outputs": [],
   "source": []
  },
  {
   "cell_type": "code",
   "execution_count": null,
   "id": "ca83231f-6aab-428f-9d4b-bfeafb048cbe",
   "metadata": {},
   "outputs": [],
   "source": []
  },
  {
   "cell_type": "code",
   "execution_count": null,
   "id": "43ab1d0f-ab85-4b89-ab7c-9c507e4b4e8b",
   "metadata": {},
   "outputs": [],
   "source": []
  }
 ],
 "metadata": {
  "kernelspec": {
   "display_name": "Python 3 (ipykernel)",
   "language": "python",
   "name": "python3"
  },
  "language_info": {
   "codemirror_mode": {
    "name": "ipython",
    "version": 3
   },
   "file_extension": ".py",
   "mimetype": "text/x-python",
   "name": "python",
   "nbconvert_exporter": "python",
   "pygments_lexer": "ipython3",
   "version": "3.7.6"
  }
 },
 "nbformat": 4,
 "nbformat_minor": 5
}
