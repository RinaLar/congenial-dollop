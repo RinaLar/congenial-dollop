{
 "cells": [
  {
   "cell_type": "code",
   "execution_count": null,
   "id": "ea8a172a-cc36-4242-9084-71ae8990f030",
   "metadata": {},
   "outputs": [],
   "source": [
    "import math\n",
    "def is_prime(m):\n",
    "    a=0\n",
    "    A=1\n",
    "    if type(m) == int and m > 0:\n",
    "        m = abs(m)\n",
    "        A=math.factorial(m-1)\n",
    "        if (A+1)%m==0:\n",
    "            return bool(m-1)\n",
    "        else:\n",
    "            return False\n",
    "    else:\n",
    "         return False"
   ]
  },
  {
   "cell_type": "code",
   "execution_count": null,
   "id": "ab164de3-4e8c-46cb-b9b9-f398ddb6ec45",
   "metadata": {},
   "outputs": [],
   "source": []
  }
 ],
 "metadata": {
  "kernelspec": {
   "display_name": "Python 3 (ipykernel)",
   "language": "python",
   "name": "python3"
  },
  "language_info": {
   "codemirror_mode": {
    "name": "ipython",
    "version": 3
   },
   "file_extension": ".py",
   "mimetype": "text/x-python",
   "name": "python",
   "nbconvert_exporter": "python",
   "pygments_lexer": "ipython3",
   "version": "3.7.6"
  }
 },
 "nbformat": 4,
 "nbformat_minor": 5
}
