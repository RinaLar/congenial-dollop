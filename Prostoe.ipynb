{
 "cells": [
  {
   "cell_type": "code",
   "execution_count": null,
   "id": "35791440-680f-461f-99dd-40c51d980aa2",
   "metadata": {},
   "outputs": [],
   "source": [
    "m=int(input())\n",
    "a=1\n",
    "A=0\n",
    "for i in range (1,m):\n",
    "    factorial=1*i\n",
    "A=factorial+1\n",
    "if A%m==0:\n",
    "    print (\"True\")\n",
    "else:\n",
    "    print(\"False\")\n"
   ]
  }
 ],
 "metadata": {
  "kernelspec": {
   "display_name": "Python 3 (ipykernel)",
   "language": "python",
   "name": "python3"
  },
  "language_info": {
   "codemirror_mode": {
    "name": "ipython",
    "version": 3
   },
   "file_extension": ".py",
   "mimetype": "text/x-python",
   "name": "python",
   "nbconvert_exporter": "python",
   "pygments_lexer": "ipython3",
   "version": "3.7.6"
  }
 },
 "nbformat": 4,
 "nbformat_minor": 5
}
