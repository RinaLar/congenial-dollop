{
 "cells": [
  {
   "cell_type": "code",
   "execution_count": 2,
   "id": "eba52844-a49a-4525-984f-508d41d9e5d5",
   "metadata": {},
   "outputs": [
    {
     "name": "stdin",
     "output_type": "stream",
     "text": [
      " 10000000000\n"
     ]
    },
    {
     "name": "stdout",
     "output_type": "stream",
     "text": [
      "False\n"
     ]
    }
   ],
   "source": [
    "def Prostota(m):\n",
    "    a=1\n",
    "    A=0\n",
    "    if type(m) == int:\n",
    "        if m>2:\n",
    "          for i in range (1,m):\n",
    "            a=a*i\n",
    "            A=a+1\n",
    "            if A%m==0:\n",
    "                return bool(m-1)\n",
    "            else:\n",
    "                return bool(0)\n",
    "        else:\n",
    "            return bool(0)\n",
    "    else:\n",
    "         return bool(0)\n",
    "\n",
    "\n",
    "\n",
    "\n",
    "\n",
    "x= int(input())\n",
    "print(str(Prostota(x)))\n",
    "\n"
   ]
  },
  {
   "cell_type": "code",
   "execution_count": null,
   "id": "49f7fbc8-189a-45a9-9ff2-4ed01a024bd0",
   "metadata": {},
   "outputs": [],
   "source": []
  }
 ],
 "metadata": {
  "kernelspec": {
   "display_name": "Python 3 (ipykernel)",
   "language": "python",
   "name": "python3"
  },
  "language_info": {
   "codemirror_mode": {
    "name": "ipython",
    "version": 3
   },
   "file_extension": ".py",
   "mimetype": "text/x-python",
   "name": "python",
   "nbconvert_exporter": "python",
   "pygments_lexer": "ipython3",
   "version": "3.7.6"
  }
 },
 "nbformat": 4,
 "nbformat_minor": 5
}
