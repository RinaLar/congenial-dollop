{
 "cells": [
  {
   "cell_type": "code",
   "execution_count": null,
   "id": "9d126e99-dba8-4cc0-900f-249027abfdc3",
   "metadata": {},
   "outputs": [],
   "source": [
    "def is_prime(num):\n",
    "    a=0\n",
    "    A=1\n",
    "    if type(num) == int and num > 0:\n",
    "        num = abs(num)\n",
    "        A=math.factorial(num-1)\n",
    "        if (A+1)%num==0:\n",
    "            return bool(num-1)\n",
    "        else:\n",
    "            return bool(0)\n",
    "    else:\n",
    "         return bool(0)"
   ]
  }
 ],
 "metadata": {
  "kernelspec": {
   "display_name": "Python 3 (ipykernel)",
   "language": "python",
   "name": "python3"
  },
  "language_info": {
   "codemirror_mode": {
    "name": "ipython",
    "version": 3
   },
   "file_extension": ".py",
   "mimetype": "text/x-python",
   "name": "python",
   "nbconvert_exporter": "python",
   "pygments_lexer": "ipython3",
   "version": "3.7.6"
  }
 },
 "nbformat": 4,
 "nbformat_minor": 5
}
