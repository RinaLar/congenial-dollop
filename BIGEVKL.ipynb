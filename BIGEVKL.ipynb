{
 "cells": [
  {
   "cell_type": "code",
   "execution_count": 1,
   "id": "54936ff2-1241-4fed-922c-1ddd07a38c51",
   "metadata": {},
   "outputs": [
    {
     "name": "stdin",
     "output_type": "stream",
     "text": [
      " 99 51\n"
     ]
    },
    {
     "name": "stdout",
     "output_type": "stream",
     "text": [
      "НОД 3, x = -1, y = 2\n"
     ]
    }
   ],
   "source": [
    "A,B=map(int,input().split())\n",
    "\n",
    "def gcd(A,B):\n",
    "    if A!=0 and B!=0:\n",
    "        div,x,y=gcd(B%A,A)\n",
    "    else:\n",
    "        return (B,0,1)\n",
    "    return (div,y-(B//A)*x,x)\n",
    "\n",
    "a = gcd(A,B)\n",
    "print(f'НОД {a[0]}, x = {a[1]}, y = {a[2]}')\n"
   ]
  },
  {
   "cell_type": "code",
   "execution_count": null,
   "id": "862e7c15-597b-4888-83be-27d80cff8515",
   "metadata": {},
   "outputs": [],
   "source": []
  }
 ],
 "metadata": {
  "kernelspec": {
   "display_name": "Python 3 (ipykernel)",
   "language": "python",
   "name": "python3"
  },
  "language_info": {
   "codemirror_mode": {
    "name": "ipython",
    "version": 3
   },
   "file_extension": ".py",
   "mimetype": "text/x-python",
   "name": "python",
   "nbconvert_exporter": "python",
   "pygments_lexer": "ipython3",
   "version": "3.7.6"
  }
 },
 "nbformat": 4,
 "nbformat_minor": 5
}
