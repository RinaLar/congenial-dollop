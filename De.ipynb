{
 "cells": [
  {
   "cell_type": "code",
   "execution_count": 1,
   "id": "2196affc-844e-417c-9da9-cd75dee96064",
   "metadata": {},
   "outputs": [],
   "source": [
    "def dec(func):\n",
    "    def wrap(*args, **kwargs): \n",
    "        res = func(*args, **kwargs) \n",
    "        return res.upper() \n",
    "    return wrap "
   ]
  },
  {
   "cell_type": "code",
   "execution_count": null,
   "id": "2d46cb0a-07c7-439a-b4ed-5215dfdfabc7",
   "metadata": {},
   "outputs": [],
   "source": []
  }
 ],
 "metadata": {
  "kernelspec": {
   "display_name": "Python 3 (ipykernel)",
   "language": "python",
   "name": "python3"
  },
  "language_info": {
   "codemirror_mode": {
    "name": "ipython",
    "version": 3
   },
   "file_extension": ".py",
   "mimetype": "text/x-python",
   "name": "python",
   "nbconvert_exporter": "python",
   "pygments_lexer": "ipython3",
   "version": "3.7.6"
  }
 },
 "nbformat": 4,
 "nbformat_minor": 5
}
