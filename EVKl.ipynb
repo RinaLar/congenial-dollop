{
 "cells": [
  {
   "cell_type": "code",
   "execution_count": 1,
   "id": "d4602e24-7a44-4362-bfee-44b9c662b7e3",
   "metadata": {},
   "outputs": [
    {
     "name": "stdin",
     "output_type": "stream",
     "text": [
      " 37 14\n"
     ]
    },
    {
     "name": "stdout",
     "output_type": "stream",
     "text": [
      "1\n"
     ]
    }
   ],
   "source": [
    "A,B=map(int,input().split())\n",
    "def gcd(ar1: int, ar2: int) -> int:\n",
    "    if ar2 == 0:\n",
    "        return ar1\n",
    "    return gcd (ar2, ar1%ar2)\n",
    "\n",
    "print(gcd(A, B))\n"
   ]
  },
  {
   "cell_type": "code",
   "execution_count": null,
   "id": "dff2e801-da54-4c3a-9787-83cf2240675c",
   "metadata": {},
   "outputs": [],
   "source": []
  }
 ],
 "metadata": {
  "kernelspec": {
   "display_name": "Python 3 (ipykernel)",
   "language": "python",
   "name": "python3"
  },
  "language_info": {
   "codemirror_mode": {
    "name": "ipython",
    "version": 3
   },
   "file_extension": ".py",
   "mimetype": "text/x-python",
   "name": "python",
   "nbconvert_exporter": "python",
   "pygments_lexer": "ipython3",
   "version": "3.7.6"
  }
 },
 "nbformat": 4,
 "nbformat_minor": 5
}
